{
 "cells": [
  {
   "cell_type": "code",
   "execution_count": 1,
   "id": "29fea4cd-56c2-4490-8667-198ed7099d81",
   "metadata": {},
   "outputs": [],
   "source": [
    "import cv2\n",
    "import numpy as np\n",
    "import pandas as pd\n",
    "import sys\n",
    "import os\n",
    "\n",
    "from exif import Image\n",
    "from read_roi import read_roi_file\n",
    "from matplotlib import pyplot as plt\n",
    "from pathlib import Path\n",
    "from tqdm.notebook import tqdm"
   ]
  },
  {
   "cell_type": "code",
   "execution_count": null,
   "outputs": [],
   "source": [
    "IMG_DIR_PATH = \"images\"\n",
    "ROI_DIR_PATH = \"rois\"\n",
    "FEATURES_FILE_PATH = \"tables/features.csv\""
   ],
   "metadata": {
    "collapsed": false
   }
  },
  {
   "cell_type": "code",
   "execution_count": 2,
   "id": "b598c197-e61a-4610-aff6-c856c8d01b96",
   "metadata": {},
   "outputs": [],
   "source": [
    "table_columns = {'spikelets_num': [],\n",
    "                 'x_resolution': [],\n",
    "                 'y_resolution': [],\n",
    "                 'resolution_unit': [],\n",
    "                 'compression': [],\n",
    "                 'exposure_time': [], \n",
    "                 'f_number': [],\n",
    "                 'photographic_sensitivity': [],\n",
    "                 'subject_distance': [],\n",
    "                 'focal_length': [],\n",
    "                 'pixel_x_dimension': [],\n",
    "                 'pixel_y_dimension': [],\n",
    "                 'focal_plane_resolution_unit': [], \n",
    "                 'exposure_mode': [],\n",
    "                 'white_balance': [],\n",
    "                 'name': []}\n",
    "\n",
    "chosen_meta_features = ['x_resolution',\n",
    "                        'y_resolution',\n",
    "                        'resolution_unit',\n",
    "                        'compression',\n",
    "                        'exposure_time', \n",
    "                        'f_number',\n",
    "                        'photographic_sensitivity',\n",
    "                        'subject_distance',\n",
    "                        'focal_length',\n",
    "                        'pixel_x_dimension',\n",
    "                        'pixel_y_dimension',\n",
    "                        'focal_plane_resolution_unit', \n",
    "                        'exposure_mode',\n",
    "                        'white_balance']"
   ]
  },
  {
   "cell_type": "code",
   "execution_count": 3,
   "id": "b1d6b1fa-c228-4990-b45b-063cae65b194",
   "metadata": {},
   "outputs": [],
   "source": [
    "def save_to_file(table):\n",
    "    table.to_csv(FEATURES_FILE_PATH, index=False)\n",
    "    \n",
    "def get_exif_meta(name, ext, feat_dict, row):\n",
    "    exif_info = Image(IMG_DIR_PATH + \"/\" + name + ext)\n",
    "    #all_f = exif_info.list_all()\n",
    "    #print(all_f)\n",
    "    for i in range(len(chosen_meta_features)):\n",
    "        feat = chosen_meta_features[i]\n",
    "        value = exif_info.get(feat)\n",
    "        \n",
    "        row.append(value)\n",
    "        \n",
    "        if feat in feat_dict:\n",
    "            if value in feat_dict[feat]:\n",
    "                feat_dict[feat][value] += 1\n",
    "            else:\n",
    "                feat_dict[feat][value] = 1\n",
    "        else:\n",
    "            feat_dict[feat] = {}\n",
    "            feat_dict[feat][value] = 1\n",
    "\n",
    "    return feat_dict"
   ]
  },
  {
   "cell_type": "code",
   "execution_count": 4,
   "id": "fa81c640-d2e2-4070-a5d6-231e446b26b4",
   "metadata": {},
   "outputs": [
    {
     "data": {
      "application/vnd.jupyter.widget-view+json": {
       "model_id": "04ed1f80a2894a44af4c18fcfcc7e883",
       "version_major": 2,
       "version_minor": 0
      },
      "text/plain": [
       "  0%|          | 0/21 [00:00<?, ?it/s]"
      ]
     },
     "metadata": {},
     "output_type": "display_data"
    }
   ],
   "source": [
    "def main():\n",
    "    spikelets = []\n",
    "    feat_dict = {}\n",
    "    \n",
    "    table = pd.DataFrame(table_columns)\n",
    "    \n",
    "    for file in tqdm([*(Path(IMG_DIR_PATH)).glob('*.jpg')]):\n",
    "        name, ext = os.path.splitext(os.path.basename(file))\n",
    "        roi = read_roi_file(ROI_DIR_PATH + \"/\" + name + \".roi\")\n",
    "        \n",
    "        spiklets_num = roi[name]['n']\n",
    "        spikelets.append(spiklets_num)\n",
    "        \n",
    "        img = cv2.imread(IMG_DIR_PATH + \"/\" + name + ext)\n",
    "        \n",
    "        row = []\n",
    "        row.append(spiklets_num)\n",
    "        \n",
    "        feat_dict = get_exif_meta(name, ext, feat_dict, row)\n",
    "        \n",
    "        row.append(name)\n",
    "        \n",
    "        table.loc[len(table.index)] = row\n",
    "        \n",
    "    save_to_file(table)\n",
    "    \n",
    "if __name__ == \"__main__\":\n",
    "    main()"
   ]
  }
 ],
 "metadata": {
  "kernelspec": {
   "display_name": "Python 3 (ipykernel)",
   "language": "python",
   "name": "python3"
  },
  "language_info": {
   "codemirror_mode": {
    "name": "ipython",
    "version": 3
   },
   "file_extension": ".py",
   "mimetype": "text/x-python",
   "name": "python",
   "nbconvert_exporter": "python",
   "pygments_lexer": "ipython3",
   "version": "3.10.6"
  }
 },
 "nbformat": 4,
 "nbformat_minor": 5
}
