{
 "cells": [
  {
   "cell_type": "code",
   "execution_count": 1,
   "id": "7dc64eb7-18b1-4a56-8668-686ff3d8405c",
   "metadata": {},
   "outputs": [
    {
     "name": "stdout",
     "output_type": "stream",
     "text": [
      "Collecting opencv-python\n",
      "  Using cached opencv_python-4.7.0.72-cp37-abi3-manylinux_2_17_x86_64.manylinux2014_x86_64.whl (61.8 MB)\n",
      "Requirement already satisfied: numpy>=1.17.0 in /opt/conda/lib/python3.10/site-packages (from opencv-python) (1.22.4)\n",
      "Installing collected packages: opencv-python\n",
      "Successfully installed opencv-python-4.7.0.72\n"
     ]
    }
   ],
   "source": [
    "!pip install opencv-python"
   ]
  },
  {
   "cell_type": "code",
   "execution_count": 2,
   "id": "b9fb9c5c-8005-43c9-8dc2-0645e6357a48",
   "metadata": {},
   "outputs": [],
   "source": [
    "import json\n",
    "import numpy as np\n",
    "import cv2\n",
    "import sys\n",
    "\n",
    "from pathlib import Path\n",
    "from skimage.io import imread\n",
    "from tqdm import tqdm\n",
    "from sklearn.neighbors import DistanceMetric\n",
    "from collections import defaultdict"
   ]
  },
  {
   "cell_type": "code",
   "execution_count": 3,
   "id": "3554d471-6009-43a9-bf2d-431ca03f2128",
   "metadata": {},
   "outputs": [],
   "source": [
    "def get_central_points(mask):\n",
    "    contours, _ = cv2.findContours( mask, cv2.RETR_EXTERNAL, cv2.CHAIN_APPROX_NONE )\n",
    "    central_points = list()\n",
    "\n",
    "    for contour in contours:\n",
    "        try:\n",
    "            moments = cv2.moments(contour)\n",
    "\n",
    "            cx = int(moments['m10']/moments['m00'])\n",
    "            cy = int(moments['m01']/moments['m00'])\n",
    "\n",
    "            central_points.append([cx, cy])\n",
    "        except:\n",
    "            pass\n",
    "\n",
    "    return central_points\n",
    "\n",
    "def compute_confusion(points, pred_points, max_distance):\n",
    "    if len(pred_points) == 0:\n",
    "        return { 'TP': 0, 'FP': 0, 'FN': len(points) }\n",
    "\n",
    "    euclidean = DistanceMetric.get_metric('euclidean')\n",
    "    distances = euclidean.pairwise(points, pred_points)\n",
    "\n",
    "    pairs = list()\n",
    "\n",
    "    for tidx, _ in enumerate(points):\n",
    "        for pidx, _ in enumerate(pred_points):\n",
    "            pairs.append((distances[tidx][pidx], tidx, pidx))\n",
    "\n",
    "    sorted_by_distance_pairs = sorted(pairs, key=lambda x:x[0])\n",
    "\n",
    "    correct_pairs = defaultdict(list)\n",
    "    distributed_pred = set()\n",
    "\n",
    "    for distance, tidx, pidx in sorted_by_distance_pairs:\n",
    "        if distance > max_distance:\n",
    "            break\n",
    "        if pidx not in distributed_pred:\n",
    "            # print(tidx, pidx)\n",
    "            correct_pairs[tidx].append(pidx)\n",
    "            distributed_pred.add(pidx)\n",
    "    # print(\"Pred points: \", pred_points)\n",
    "    # print(len(pred_points))\n",
    "    # print(\"Distributed pred points: \", distributed_pred)\n",
    "\n",
    "    confusion = { 'TP': 0, 'FP': 0,  'FN': 0 }        \n",
    "    confusion['FN'] = len(points) - len(correct_pairs)\n",
    "\n",
    "    for neighbors in correct_pairs.values():\n",
    "        if len(neighbors) > 1:\n",
    "            confusion['FP'] += len(neighbors) - 1\n",
    "\n",
    "        confusion['TP'] += 1\n",
    "        \n",
    "    for i in range(len(pred_points)):\n",
    "        if i not in distributed_pred:\n",
    "            confusion['FP'] += 1\n",
    "    return confusion\n",
    "\n",
    "# def draw_centers(img, x, y, radius, c, limit, rad):\n",
    "#     img = cv2.circle(img, (int(x), int(y)), radius=5, color=c, thickness=12)\n",
    "#     if limit:\n",
    "#         img = cv2.circle(img, (int(x), int(y)), radius=int(radius), color=c, thickness=8)\n",
    "#     return img\n",
    "    \n",
    "def detection_score(name, mask, pred_mask, distance):\n",
    "    points = get_central_points(mask)\n",
    "    pred_points = get_central_points(pred_mask)\n",
    "\n",
    "    confusions = {}\n",
    "    confusions = compute_confusion(points, pred_points, distance)\n",
    "    \n",
    "    # img = cv2.imread(\"../../data/all_images/\" + name + \".jpg\")\n",
    "    # for i in points:\n",
    "    #     img = draw_centers(img, i[0], i[1], distance, (255, 255, 255), True, 5)\n",
    "    # for i in pred_points:\n",
    "    #     img = draw_centers(img, i[0], i[1], distance, (125, 60, 195), False, 5)\n",
    "    # cv2.imwrite(\"overlay.png\", img)\n",
    "    return confusions"
   ]
  },
  {
   "cell_type": "code",
   "execution_count": 7,
   "id": "e46c6277-1e0a-46b8-a410-8a6bc966cfe3",
   "metadata": {},
   "outputs": [
    {
     "name": "stderr",
     "output_type": "stream",
     "text": [
      "100%|██████████| 21/21 [00:00<00:00, 24.59it/s]"
     ]
    },
    {
     "name": "stdout",
     "output_type": "stream",
     "text": [
      "0.9690981981981982 0.9614279279279279 0.9630471471471472\n"
     ]
    },
    {
     "name": "stderr",
     "output_type": "stream",
     "text": [
      "\n"
     ]
    }
   ],
   "source": [
    "def main():\n",
    "    test = None\n",
    "\n",
    "    DATA_ORG = \"certain\"\n",
    "    GEOM = \"ellipses\"\n",
    "    SIZE = \"middle\"\n",
    "\n",
    "    with open('../make_data_organizations/splits/' + DATA_ORG + '.json', 'r') as f:\n",
    "        test = json.load(f)\n",
    "    test = test[\"test\"]\n",
    "\n",
    "    precisions = list()\n",
    "    recalls = list()\n",
    "    f1s = list()\n",
    "\n",
    "    coefs = None\n",
    "    ratios = None\n",
    "\n",
    "    with open('../images_cropping/coefs.json', 'r') as f:\n",
    "        coefs = json.load(f)\n",
    "\n",
    "    with open('../images_cropping/ratios.json', 'r') as f:\n",
    "        ratios = json.load(f)\n",
    "\n",
    "    BATCHES = len(test) // 16\n",
    "    REMAIN = len(test) % 16\n",
    "\n",
    "    batch_size = 16\n",
    "    for batch_count in tqdm(range(BATCHES + 1)):\n",
    "        if batch_count == BATCHES:\n",
    "            batch_size = REMAIN\n",
    "        for i in range(batch_size):\n",
    "            mask_name = str(Path(test[batch_count*16+i]).stem)\n",
    "            pred_name = \"output\" + str(batch_count) + \"_\" + str(i)\n",
    "\n",
    "            mask = imread(\"masks/\" + mask_name + \"_mask.png\").clip(max=1)\n",
    "            pred_mask = imread(\"masks/\" + mask_name + \"_pred.png\").clip(max=1)\n",
    "\n",
    "            distance = 3 * np.sqrt(coefs[mask_name]) / ratios[mask_name]\n",
    "\n",
    "            confusions = detection_score(mask_name, mask, pred_mask, distance)\n",
    "            # print(confusions)\n",
    "            if confusions[\"TP\"] + confusions[\"FP\"] == 0:\n",
    "                continue\n",
    "            precision = confusions[\"TP\"] / (confusions[\"TP\"] + confusions[\"FP\"])\n",
    "            recall = confusions[\"TP\"] / (confusions[\"TP\"] + confusions[\"FN\"])\n",
    "            fscore = 2 * (precision*recall) / (precision+recall)\n",
    "            # print(precision, recall, fscore)\n",
    "\n",
    "            precisions.append(round(precision, 4))\n",
    "            recalls.append(round(recall, 4))\n",
    "            f1s.append(round(fscore, 4))\n",
    "    \n",
    "    print(np.mean(precisions), np.mean(recalls), np.mean(f1s))\n",
    "    \n",
    "#     precision, recall = detection_score(mask, pred_mask, distance)\n",
    "\n",
    "#     if precision + recall != 0:\n",
    "#         f1 = 2 * (precision*recall) / (precision+recall)\n",
    "#     else:\n",
    "#         f1 = 0\n",
    "\n",
    "#     f1s.append(round(f1, 4))\n",
    "#     print(\"\\n\")\n",
    "    \n",
    "\n",
    "#     print(np.mean(precisions), np.mean(recalls), np.mean(f1s))\n",
    "\n",
    "\n",
    "\n",
    "if __name__ == \"__main__\":\n",
    "    main()"
   ]
  },
  {
   "cell_type": "code",
   "execution_count": null,
   "id": "8474bf57-5887-4c7c-beeb-a3d32bbb11f0",
   "metadata": {},
   "outputs": [],
   "source": []
  },
  {
   "cell_type": "code",
   "execution_count": null,
   "id": "3cd51b55-526b-4d46-89f0-23073cf83247",
   "metadata": {},
   "outputs": [],
   "source": []
  },
  {
   "cell_type": "code",
   "execution_count": null,
   "id": "91eec25d-a8c7-40d2-8692-f936d59365a3",
   "metadata": {},
   "outputs": [],
   "source": [
    "import matplotlib.pyplot as plt\n",
    "import numpy as np"
   ]
  },
  {
   "cell_type": "code",
   "execution_count": null,
   "id": "1832f423-64e6-4e11-a850-71145e8cc5be",
   "metadata": {},
   "outputs": [],
   "source": [
    "p = [0.062461781609195396, 0.2250537356321839, 0.40883793103448274, 0.5714672413793104, 0.6893477011494252, 0.769687356321839, 0.8237252873563218, 0.8593988505747125, 0.8836336206896552, 0.8962893678160918, 0.9027410919540231, 0.9117580459770114]\n",
    "r = [0.053968678160919534, 0.19009022988505747, 0.34328505747126437, 0.4743295977011494, 0.5671623563218391, 0.6309965517241379, 0.6717474137931034, 0.6983399425287357, 0.7183422413793102, 0.7288189655172415, 0.7341778735632184, 0.7411252873563219]\n",
    "f = [0.057383045977011486, 0.20403448275862066, 0.36938793103448275, 0.5123341954022989, 0.6143192528735631, 0.6841629310344828, 0.729260632183908, 0.7588721264367816, 0.7799238505747127, 0.7909629310344828, 0.796628735632184, 0.8041721264367816]\n",
    "\n",
    "names = ['Precision', 'Recall', 'F-score']\n",
    "colors = ['darkviolet', 'orchid', 'royalblue']\n",
    "radiuses = ['0.25', '0.5', '0.75', '1', '1.25', '1.5', '1.75', '2', '2.25', '2.5', '2.75', '3']"
   ]
  },
  {
   "cell_type": "code",
   "execution_count": 31,
   "id": "aa7f00c1-19af-445f-b091-204d7e9e0cae",
   "metadata": {},
   "outputs": [
    {
     "data": {
      "image/png": "[encoded data removed]",
      "text/plain": [
       "<Figure size 800x500 with 1 Axes>"
      ]
     },
     "metadata": {},
     "output_type": "display_data"
    }
   ],
   "source": [
    "clsfrs = [p, r, f]\n",
    "\n",
    "x = [i for i in range(12)]\n",
    "\n",
    "fig = plt.figure(figsize=(8,5))\n",
    "for i in range(len(clsfrs)):\n",
    "    y = clsfrs[i]\n",
    "    plt.plot(x, y, linestyle='-', marker='.', color=colors[i], label=names[i])\n",
    "    \n",
    "plt.legend(loc=\"upper left\", bbox_to_anchor=(0.7, 0.32), fontsize=14)\n",
    "\n",
    "plt.xticks(np.linspace(0, 3, 4))\n",
    "plt.xticks(x, radiuses, rotation=20)\n",
    "ax = plt.gca()\n",
    "ax.tick_params(axis='both', labelsize=13)\n",
    "plt.show()"
   ]
  },
  {
   "cell_type": "code",
   "execution_count": 32,
   "id": "348a8a92-2fa4-4dbb-b1f5-44d14c2c30d3",
   "metadata": {},
   "outputs": [],
   "source": [
    "fig.savefig(\"pound.png\", bbox_inches='tight')"
   ]
  }
 ],
 "metadata": {
  "kernelspec": {
   "display_name": "Python 3 (ipykernel)",
   "language": "python",
   "name": "python3"
  },
  "language_info": {
   "codemirror_mode": {
    "name": "ipython",
    "version": 3
   },
   "file_extension": ".py",
   "mimetype": "text/x-python",
   "name": "python",
   "nbconvert_exporter": "python",
   "pygments_lexer": "ipython3",
   "version": "3.10.6"
  }
 },
 "nbformat": 4,
 "nbformat_minor": 5
}
