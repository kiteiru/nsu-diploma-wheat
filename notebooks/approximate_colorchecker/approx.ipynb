{
 "cells": [
  {
   "cell_type": "code",
   "execution_count": 3,
   "id": "a3b60ae4-43cb-47cf-a5a1-9306815ffb25",
   "metadata": {},
   "outputs": [],
   "source": [
    "from pathlib import Path\n",
    "import cv2\n",
    "from tqdm.notebook import tqdm\n",
    "import numpy as np\n",
    "import argparse\n",
    "import cv2\n",
    "import imutils\n",
    "import json"
   ]
  },
  {
   "cell_type": "code",
   "execution_count": null,
   "id": "93248a2d-428d-4299-8622-96208616c9c5",
   "metadata": {},
   "outputs": [],
   "source": [
    "coefs = {}\n",
    "\n",
    "MASK_DIR_PATH = \"../../data/colorchecker_masks/\"\n",
    "EPSILON = 0.0001 # as much epsilon as rough colorchecker approximation\n",
    "REAL_AREA = 63.5 * 108"
   ]
  },
  {
   "cell_type": "code",
   "execution_count": 4,
   "id": "5bd5f89b-b574-4551-834c-ffdeb87749a1",
   "metadata": {},
   "outputs": [
    {
     "data": {
      "application/vnd.jupyter.widget-view+json": {
       "model_id": "a0bf262f95a945cc9522813eb8b00a38",
       "version_major": 2,
       "version_minor": 0
      },
      "text/plain": [
       "  0%|          | 0/1701 [00:00<?, ?it/s]"
      ]
     },
     "metadata": {},
     "output_type": "display_data"
    }
   ],
   "source": [
    "for file in tqdm([*(Path(MASK_DIR_PATH)).glob('*.jpg')]):\n",
    "    img = cv2.imread(str(file))\n",
    "    img = cv2.cvtColor(img, cv2.COLOR_BGR2GRAY)\n",
    "\n",
    "    contours = cv2.findContours(img, cv2.RETR_EXTERNAL, cv2.CHAIN_APPROX_SIMPLE)\n",
    "    contours = imutils.grab_contours(contours)\n",
    "    longest_contour = max(contours, key=cv2.contourArea)\n",
    "\n",
    "    perimeter = cv2.arcLength(longest_contour, True)\n",
    "    approximation = cv2.approxPolyDP(longest_contour, EPSILON * perimeter, True)\n",
    "\n",
    "    empty = np.zeros((img.shape[0], img.shape[1], 1), dtype=np.uint8)\n",
    "\n",
    "    cv2.fillPoly(empty, [approximation], 255)\n",
    "\n",
    "    cv2.imwrite(\"../../data/approxed_colorchecker/\" + str(file.stem) + \".png\", empty)\n",
    "\n",
    "    whitePixelCount = cv2.countNonZero(img)\n",
    "    area_ratio = whitePixelCount / REAL_AREA\n",
    "\n",
    "    coefs[str(file.stem)] = area_ratio"
   ]
  },
  {
   "cell_type": "code",
   "execution_count": 5,
   "id": "d831f605-383c-4600-a7fb-e3d4b8750ac8",
   "metadata": {},
   "outputs": [],
   "source": [
    "with open('coefs.json', 'w') as f:\n",
    "    json.dump(coefs, f)"
   ]
  },
  {
   "cell_type": "code",
   "execution_count": null,
   "id": "907d7c38-e27d-4538-84d8-028d7ed1ce83",
   "metadata": {},
   "outputs": [],
   "source": []
  }
 ],
 "metadata": {
  "kernelspec": {
   "display_name": "Python 3 (ipykernel)",
   "language": "python",
   "name": "python3"
  },
  "language_info": {
   "codemirror_mode": {
    "name": "ipython",
    "version": 3
   },
   "file_extension": ".py",
   "mimetype": "text/x-python",
   "name": "python",
   "nbconvert_exporter": "python",
   "pygments_lexer": "ipython3",
   "version": "3.10.6"
  }
 },
 "nbformat": 4,
 "nbformat_minor": 5
}
