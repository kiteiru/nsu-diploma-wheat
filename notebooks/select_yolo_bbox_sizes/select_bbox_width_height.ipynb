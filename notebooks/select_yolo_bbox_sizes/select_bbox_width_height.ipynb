{
 "cells": [
  {
   "cell_type": "code",
   "execution_count": 1,
   "id": "239ae743-a4a9-4343-be7e-70621fbdd573",
   "metadata": {},
   "outputs": [
    {
     "name": "stdout",
     "output_type": "stream",
     "text": [
      "Requirement already satisfied: opencv-python in /home/pronina/miniconda3/lib/python3.9/site-packages (4.7.0.72)\n",
      "Requirement already satisfied: numpy>=1.17.3 in /home/pronina/miniconda3/lib/python3.9/site-packages (from opencv-python) (1.22.0)\n"
     ]
    }
   ],
   "source": [
    "!pip install opencv-python"
   ]
  },
  {
   "cell_type": "code",
   "execution_count": null,
   "id": "83433d89",
   "metadata": {},
   "outputs": [],
   "source": [
    "import cv2\n",
    "import csv\n",
    "import json\n",
    "from matplotlib import pyplot as plt\n",
    "import pandas as pd\n",
    "from tqdm import tqdm\n",
    "from pathlib import Path"
   ]
  },
  {
   "cell_type": "code",
   "execution_count": null,
   "id": "f84c8145",
   "metadata": {},
   "outputs": [],
   "source": [
    "# w, h\n",
    "# british:  0           1           2           3           4           5           6           7           8           9           10\n",
    "#           65, 90      65, 95      65, 100     65, 100     55, 80      65, 110     65, 110     55, 90      50, 85      50, 85      65, 105\n",
    "#\n",
    "# raw:      0           1           2           3           4           5           6           7\n",
    "#           85, 135     95, 165     70, 155     90, 125     125, 225    125, 225    45, 95      115, 195\n",
    "\n",
    "sizes = {\"british\": [(65, 90), (65, 95), (65, 100), (65, 100), (55, 80), (65, 110), (65, 110), (55, 90), (50, 85), (50, 85), (65, 105)], \n",
    "         \"raw\": [(85, 135), (95, 165), (70, 155), (90, 125), (125, 225), (125, 225), (45, 95), (115, 195)]}\n",
    "\n",
    "ratios = {}\n",
    "with open(\"ratios.json\") as f:\n",
    "    ratios = json.load(f)"
   ]
  },
  {
   "cell_type": "code",
   "execution_count": null,
   "id": "ebeb28fb",
   "metadata": {},
   "outputs": [],
   "source": [
    "def get_central_points(mask):\n",
    "    contours, _ = cv2.findContours( mask, cv2.RETR_EXTERNAL, cv2.CHAIN_APPROX_NONE )\n",
    "    central_points = list()\n",
    "\n",
    "    for contour in contours:\n",
    "        try:\n",
    "            moments = cv2.moments(contour)\n",
    "\n",
    "            cx = int(moments['m10']/moments['m00'])\n",
    "            cy = int(moments['m01']/moments['m00'])\n",
    "\n",
    "            central_points.append([cx, cy])\n",
    "        except:\n",
    "            pass\n",
    "\n",
    "    return central_points"
   ]
  },
  {
   "cell_type": "code",
   "execution_count": null,
   "id": "3ec884bc",
   "metadata": {},
   "outputs": [],
   "source": [
    "for key in list(sizes.keys()):\n",
    "    for num in range(len(sizes[key])):\n",
    "        for path in tqdm([*Path(\"clusters/\" + key + \"/cluster_\" + str(num)).glob('*.[J|j][P|p][G|g]')]):\n",
    "            name = str(path.stem)\n",
    "\n",
    "            img = cv2.imread(\"all_cropped_images/\" + name + \".jpg\")\n",
    "            mask = cv2.imread(\"all_cropped_circles/\" + name + \".png\", cv2.COLOR_BGR2GRAY)\n",
    "\n",
    "            central_points = get_central_points(mask)\n",
    "\n",
    "            labels = [0] * len(central_points)\n",
    "            x_center = []\n",
    "            y_center = []\n",
    "            r_width = []\n",
    "            r_height = []\n",
    "\n",
    "            for i in range(len(central_points)):\n",
    "                # x = roi.iloc[i, 0]\n",
    "                # y = roi.iloc[i, 1]\n",
    "                x = central_points[i][0]\n",
    "                y = central_points[i][1]\n",
    "                \n",
    "                img = cv2.circle(img, (int(x), int(y)), radius=1, color=(0, 0, 0), thickness=1)\n",
    "                \n",
    "                WIDTH = img.shape[1]\n",
    "                HEIGHT = img.shape[0]\n",
    "                \n",
    "                rect_width = sizes[key][num][0] / ratios[name]\n",
    "                rect_height = sizes[key][num][1] / ratios[name]\n",
    "\n",
    "                start_point = (int(x - rect_width / 2), int(y - rect_height / 2))\n",
    "                end_point = (int(x + rect_width / 2), int(y + rect_height / 2))\n",
    "                \n",
    "                img = cv2.rectangle(img, start_point, end_point, color=(0, 0, 0), thickness=1)\n",
    "                \n",
    "                x_center.append(round(x / WIDTH, 6))\n",
    "                y_center.append(round(y / HEIGHT, 6))\n",
    "                r_width.append(round(rect_width / WIDTH, 6))\n",
    "                r_height.append(round(rect_height / HEIGHT, 6))\n",
    "                \n",
    "\n",
    "            # plt.figure(figsize=(10, 10))\n",
    "            # plt.imshow(img)\n",
    "            cv2.imwrite(\"check/\" + name + \".png\", img)\n",
    "\n",
    "            data = []\n",
    "            for k in zip(labels, x_center, y_center, r_width, r_height):\n",
    "                data.append(k)\n",
    "            df = pd.DataFrame(data, columns=None)\n",
    "            df.to_csv(\"labels/\" + name + \".txt\", header=None, index=None, sep=' ')"
   ]
  }
 ],
 "metadata": {
  "kernelspec": {
   "display_name": "base",
   "language": "python",
   "name": "python3"
  },
  "language_info": {
   "codemirror_mode": {
    "name": "ipython",
    "version": 3
   },
   "file_extension": ".py",
   "mimetype": "text/x-python",
   "name": "python",
   "nbconvert_exporter": "python",
   "pygments_lexer": "ipython3",
   "version": "3.9.13"
  },
  "vscode": {
   "interpreter": {
    "hash": "d844d4827d6398c715fb98ab4f630034ce6aa4ef7ed5ff10ad985d322d586ef8"
   }
  }
 },
 "nbformat": 4,
 "nbformat_minor": 5
}
