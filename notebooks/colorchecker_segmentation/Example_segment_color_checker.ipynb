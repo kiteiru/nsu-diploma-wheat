{
 "cells": [
  {
   "cell_type": "code",
   "execution_count": 3,
   "metadata": {},
   "outputs": [],
   "source": [
    "import os\n",
    "import pickle\n",
    "import numpy as np\n",
    "import albumentations as A\n",
    "import torch, torch.nn as nn\n",
    "import segmentation_models_pytorch as sm\n",
    "import cv2\n",
    "import matplotlib.pyplot as plt\n",
    "from torch.autograd import Variable\n",
    "from tqdm.notebook import tqdm\n",
    "from pathlib import Path"
   ]
  },
  {
   "cell_type": "code",
   "execution_count": 4,
   "metadata": {},
   "outputs": [
    {
     "data": {
      "application/vnd.jupyter.widget-view+json": {
       "model_id": "ea5d8127261b4ce4ad147f55e7e8eab6",
       "version_major": 2,
       "version_minor": 0
      },
      "text/plain": [
       "  0%|          | 0/1445 [00:00<?, ?it/s]"
      ]
     },
     "metadata": {},
     "output_type": "display_data"
    }
   ],
   "source": [
    "os.environ[\"CUDA_VISIBLE_DEVICES\"] = \"1\"\n",
    "\n",
    "infer_aug = A.Compose([ \n",
    "                        A.Resize ( height=384,\n",
    "                                   width=384,\n",
    "                                   interpolation=1,\n",
    "                                   always_apply=False,\n",
    "                                   p=1. ),\n",
    "                        A.Normalize ( mean=(0.485, 0.456, 0.406),\n",
    "                                      std=(0.229, 0.224, 0.225),\n",
    "                                      max_pixel_value=255.0,\n",
    "                                      always_apply=False,\n",
    "                                      p=1.0 )\n",
    "                      ])\n",
    "\n",
    "\n",
    "class UnetSm(nn.Module):\n",
    "    def __init__(self, in_channels=3, out_channels=1, **kwargs):\n",
    "        super().__init__()\n",
    "\n",
    "        self.unet = sm.Unet(in_channels=in_channels, classes=out_channels, **kwargs)\n",
    "\n",
    "    def forward(self, inputs):\n",
    "        return self.unet(inputs)\n",
    "\n",
    "def inverse_infer_aug(height, width):\n",
    "    return A.Compose([\n",
    "                       A.Resize ( height=height,\n",
    "                                  width=width,\n",
    "                                  interpolation=cv2.INTER_NEAREST,\n",
    "                                  always_apply=False,\n",
    "                                  p=1. ) \n",
    "                    ])\n",
    "\n",
    "    \n",
    "def create_model(model_file):\n",
    "    model = UnetSm( out_channels=2,\n",
    "                    encoder_name='efficientnet-b0' )\n",
    " \n",
    "    with open(model_file, 'rb') as f:\n",
    "        state = pickle.load(f)\n",
    "\n",
    "    model.load_state_dict(state)\n",
    "    #model.cuda()\n",
    "\n",
    "    return model\n",
    "\n",
    "\n",
    "def torch_float(data, device):\n",
    "    return Variable(torch.FloatTensor(data)).to(device)\n",
    "\n",
    "def augmented_load(img, aug):\n",
    "    auged = aug(image=img)\n",
    "    aug_img = auged['image']\n",
    "\n",
    "    aug_img = aug_img.transpose(2, 0, 1)\n",
    "\n",
    "    return np.array([aug_img])\n",
    "\n",
    "def infer(model, img):\n",
    "    \n",
    "    imgs_batch_ = augmented_load(img, infer_aug)\n",
    "    imgs_batch = torch_float(imgs_batch_, torch.device('cuda' if torch.cuda.is_available() else 'cpu'))\n",
    "\n",
    "    logits_batch = model(imgs_batch)\n",
    "\n",
    "    pred_masks_batch = logits_batch.argmax(dim=1)\n",
    "    pred_mask = pred_masks_batch.cpu().data.numpy()\n",
    "    pred_mask = np.reshape(pred_mask, (384, 384,1))\n",
    "\n",
    "    original_size = img.shape[:2]\n",
    "\n",
    "    original_pred_mask = inverse_infer_aug(*original_size)(image=pred_mask)['image']\n",
    "    original_pred_mask = original_pred_mask.astype('uint8') * 255 \n",
    "\n",
    "    return original_pred_mask\n",
    "\n",
    "model_checker_path = 'model_checker.bin'\n",
    "\n",
    "for file in tqdm([*(Path(\"orig_images\")).glob('*.jpg')]):\n",
    "    img = cv2.imread(str(file))\n",
    "    img_checker = infer(create_model(model_checker_path),img)\n",
    "    cv2.imwrite(\"orig_masks/\" + file.stem + \".jpg\", img_checker)"
   ]
  }
 ],
 "metadata": {
  "kernelspec": {
   "display_name": "base",
   "language": "python",
   "name": "python3"
  },
  "language_info": {
   "codemirror_mode": {
    "name": "ipython",
    "version": 3
   },
   "file_extension": ".py",
   "mimetype": "text/x-python",
   "name": "python",
   "nbconvert_exporter": "python",
   "pygments_lexer": "ipython3",
   "version": "3.9.13"
  },
  "vscode": {
   "interpreter": {
    "hash": "d844d4827d6398c715fb98ab4f630034ce6aa4ef7ed5ff10ad985d322d586ef8"
   }
  }
 },
 "nbformat": 4,
 "nbformat_minor": 4
}
