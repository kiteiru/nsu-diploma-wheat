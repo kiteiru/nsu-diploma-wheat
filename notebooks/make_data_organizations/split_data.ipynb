{
 "cells": [
  {
   "cell_type": "code",
   "execution_count": 2,
   "metadata": {},
   "outputs": [],
   "source": [
    "import warnings\n",
    "import numpy as np\n",
    "import os\n",
    "import random\n",
    "import json\n",
    "\n",
    "from tqdm.notebook import tqdm\n",
    "from pathlib import Path\n",
    "\n",
    "warnings.simplefilter(\"ignore\")"
   ]
  },
  {
   "cell_type": "markdown",
   "metadata": {},
   "source": [
    "## RANDOM"
   ]
  },
  {
   "cell_type": "code",
   "execution_count": 32,
   "metadata": {},
   "outputs": [],
   "source": [
    "BRITISH_IMAGE_DIR = \"../../data/british_images/\"\n",
    "RAW_IMAGE_DIR = \"../../data/raw_images/\"\n",
    "\n",
    "BRITISH_OUTPUT = \"data/british_images/\"\n",
    "RAW_OUTPUT = \"data/raw_images/\""
   ]
  },
  {
   "cell_type": "code",
   "execution_count": 33,
   "metadata": {},
   "outputs": [],
   "source": [
    "british_len = len([name for name in os.listdir(BRITISH_IMAGE_DIR) if not os.path.isdir(name)])\n",
    "raw_len = len([name for name in os.listdir(RAW_IMAGE_DIR) if not os.path.isdir(name)])"
   ]
  },
  {
   "cell_type": "code",
   "execution_count": 34,
   "metadata": {},
   "outputs": [],
   "source": [
    "british_images = []\n",
    "raw_images = []"
   ]
  },
  {
   "cell_type": "code",
   "execution_count": 35,
   "metadata": {},
   "outputs": [
    {
     "data": {
      "application/vnd.jupyter.widget-view+json": {
       "model_id": "60d6fe86eb55487aa31bc9e007214187",
       "version_major": 2,
       "version_minor": 0
      },
      "text/plain": [
       "  0%|          | 0/256 [00:00<?, ?it/s]"
      ]
     },
     "metadata": {},
     "output_type": "display_data"
    },
    {
     "data": {
      "application/vnd.jupyter.widget-view+json": {
       "model_id": "bfe9e854e2a5483aa030e1ff6fe4e680",
       "version_major": 2,
       "version_minor": 0
      },
      "text/plain": [
       "  0%|          | 0/1445 [00:00<?, ?it/s]"
      ]
     },
     "metadata": {},
     "output_type": "display_data"
    }
   ],
   "source": [
    "for path in tqdm([*(Path(BRITISH_IMAGE_DIR)).glob('*.[jJ][pP][gG]')]):\n",
    "    british_images.append(str(path.stem) + str(path.suffix))\n",
    "    \n",
    "for path in tqdm([*(Path(RAW_IMAGE_DIR)).glob('*.[jJ][pP][gG]')]):\n",
    "    raw_images.append(str(path.stem) + str(path.suffix))"
   ]
  },
  {
   "cell_type": "code",
   "execution_count": 36,
   "metadata": {},
   "outputs": [],
   "source": [
    "random_british = random.sample(british_images, len(british_images))\n",
    "random_raw = random.sample(raw_images, len(raw_images))"
   ]
  },
  {
   "cell_type": "code",
   "execution_count": 37,
   "metadata": {},
   "outputs": [],
   "source": [
    "random_train = random_british[:int(british_len * 0.6)] + random_raw[:int(raw_len * 0.6)]\n",
    "random_val = random_british[int(british_len * 0.6):int(british_len * 0.8)] + random_raw[int(raw_len * 0.6):int(raw_len * 0.8)]\n",
    "random_test = random_british[int(british_len * 0.8):] + random_raw[int(raw_len * 0.8):]\n",
    "\n",
    "random.shuffle(random_train)\n",
    "random.shuffle(random_val)\n",
    "random.shuffle(random_test)"
   ]
  },
  {
   "cell_type": "code",
   "execution_count": 38,
   "metadata": {},
   "outputs": [
    {
     "data": {
      "text/plain": [
       "(1020, 340, 341)"
      ]
     },
     "execution_count": 38,
     "metadata": {},
     "output_type": "execute_result"
    }
   ],
   "source": [
    "len(random_train), len(random_val), len(random_test)"
   ]
  },
  {
   "cell_type": "code",
   "execution_count": 39,
   "metadata": {},
   "outputs": [],
   "source": [
    "split = dict()\n",
    "\n",
    "split['train'] = random_train\n",
    "split['val'] = random_val\n",
    "split['test'] = random_test\n",
    "\n",
    "with open('splits/random.json', 'w') as f:\n",
    "    json.dump(split, f)"
   ]
  },
  {
   "cell_type": "code",
   "execution_count": 5,
   "metadata": {
    "tags": []
   },
   "outputs": [
    {
     "name": "stdout",
     "output_type": "stream",
     "text": [
      "1020\n"
     ]
    }
   ],
   "source": [
    "new = None\n",
    "\n",
    "with open('splits/random.json', 'r') as f:\n",
    "    new = json.load(f)\n",
    "    \n",
    "print(len(new[\"train\"]))"
   ]
  },
  {
   "cell_type": "code",
   "execution_count": 15,
   "metadata": {},
   "outputs": [],
   "source": [
    "with open('random.txt', 'w') as f:\n",
    "    f.write(str({\"train\": random_train, \"val\": random_val, \"test\": random_test}))"
   ]
  },
  {
   "cell_type": "code",
   "execution_count": 16,
   "metadata": {},
   "outputs": [],
   "source": [
    "file = open('random.txt', 'r')\n",
    "\n",
    "dict_files = file.read()\n",
    "files = eval(dict_files)\n",
    "\n",
    "file.close()"
   ]
  },
  {
   "cell_type": "markdown",
   "metadata": {},
   "source": [
    "## EQUAL"
   ]
  },
  {
   "cell_type": "code",
   "execution_count": 18,
   "metadata": {},
   "outputs": [],
   "source": [
    "BRITISH_IMAGE_DIR_ROOT = \"../../clusters/british/\"\n",
    "RAW_IMAGE_DIR_ROOT = \"../../clusters/raw/\"\n",
    "\n",
    "BRITISH_OUTPUT = \"data/british_images/\"\n",
    "RAW_OUTPUT = \"data/raw_images/\""
   ]
  },
  {
   "cell_type": "code",
   "execution_count": 19,
   "metadata": {},
   "outputs": [],
   "source": [
    "BRITISH_CLUSTERS_NUM = 11\n",
    "RAW_CLUSTERS_NUM = 8"
   ]
  },
  {
   "cell_type": "code",
   "execution_count": 20,
   "metadata": {},
   "outputs": [
    {
     "ename": "NameError",
     "evalue": "name 'tqdm' is not defined",
     "output_type": "error",
     "traceback": [
      "\u001b[0;31m---------------------------------------------------------------------------\u001b[0m",
      "\u001b[0;31mNameError\u001b[0m                                 Traceback (most recent call last)",
      "Cell \u001b[0;32mIn [20], line 8\u001b[0m\n\u001b[1;32m      6\u001b[0m british_images \u001b[38;5;241m=\u001b[39m []\n\u001b[1;32m      7\u001b[0m dir_path \u001b[38;5;241m=\u001b[39m BRITISH_IMAGE_DIR_ROOT \u001b[38;5;241m+\u001b[39m \u001b[38;5;124m\"\u001b[39m\u001b[38;5;124mcluster_\u001b[39m\u001b[38;5;124m\"\u001b[39m \u001b[38;5;241m+\u001b[39m \u001b[38;5;28mstr\u001b[39m(i)\n\u001b[0;32m----> 8\u001b[0m \u001b[38;5;28;01mfor\u001b[39;00m path \u001b[38;5;129;01min\u001b[39;00m \u001b[43mtqdm\u001b[49m([\u001b[38;5;241m*\u001b[39m(Path(dir_path))\u001b[38;5;241m.\u001b[39mglob(\u001b[38;5;124m'\u001b[39m\u001b[38;5;124m*.[jJ][pP][gG]\u001b[39m\u001b[38;5;124m'\u001b[39m)]):\n\u001b[1;32m      9\u001b[0m     british_images\u001b[38;5;241m.\u001b[39mappend(BRITISH_OUTPUT \u001b[38;5;241m+\u001b[39m \u001b[38;5;28mstr\u001b[39m(path\u001b[38;5;241m.\u001b[39mstem) \u001b[38;5;241m+\u001b[39m \u001b[38;5;28mstr\u001b[39m(path\u001b[38;5;241m.\u001b[39msuffix))\n\u001b[1;32m     11\u001b[0m cluster_len \u001b[38;5;241m=\u001b[39m \u001b[38;5;28mlen\u001b[39m([name \u001b[38;5;28;01mfor\u001b[39;00m name \u001b[38;5;129;01min\u001b[39;00m os\u001b[38;5;241m.\u001b[39mlistdir(dir_path) \u001b[38;5;28;01mif\u001b[39;00m \u001b[38;5;129;01mnot\u001b[39;00m os\u001b[38;5;241m.\u001b[39mpath\u001b[38;5;241m.\u001b[39misdir(name)])\n",
      "\u001b[0;31mNameError\u001b[0m: name 'tqdm' is not defined"
     ]
    }
   ],
   "source": [
    "equal_train = []\n",
    "equal_val = []\n",
    "equal_test = []\n",
    "\n",
    "for i in range(BRITISH_CLUSTERS_NUM):\n",
    "    british_images = []\n",
    "    dir_path = BRITISH_IMAGE_DIR_ROOT + \"cluster_\" + str(i)\n",
    "    for path in tqdm([*(Path(dir_path)).glob('*.[jJ][pP][gG]')]):\n",
    "        british_images.append(BRITISH_OUTPUT + str(path.stem) + str(path.suffix))\n",
    "        \n",
    "    cluster_len = len([name for name in os.listdir(dir_path) if not os.path.isdir(name)])\n",
    "    \n",
    "    equal_train += british_images[:int(cluster_len * 0.6)]\n",
    "    equal_val += british_images[int(cluster_len * 0.6):int(cluster_len * 0.8)]\n",
    "    equal_test += british_images[int(cluster_len * 0.8):]\n",
    "    \n",
    "for i in range(RAW_CLUSTERS_NUM):\n",
    "    raw_images = []\n",
    "    dir_path = RAW_IMAGE_DIR_ROOT + \"cluster_\" + str(i)\n",
    "    for path in tqdm([*(Path(dir_path)).glob('*.[jJ][pP][gG]')]):\n",
    "        raw_images.append(RAW_OUTPUT + str(path.stem) + str(path.suffix))\n",
    "        \n",
    "    cluster_len = len([name for name in os.listdir(dir_path) if not os.path.isdir(name)])\n",
    "    \n",
    "    equal_train += raw_images[:int(cluster_len * 0.6)]\n",
    "    equal_val += raw_images[int(cluster_len * 0.6):int(cluster_len * 0.8)]\n",
    "    equal_test += raw_images[int(cluster_len * 0.8):]"
   ]
  },
  {
   "cell_type": "code",
   "execution_count": 17,
   "metadata": {},
   "outputs": [],
   "source": [
    "random.shuffle(equal_train)\n",
    "random.shuffle(equal_val)\n",
    "random.shuffle(equal_test)"
   ]
  },
  {
   "cell_type": "code",
   "execution_count": 18,
   "metadata": {},
   "outputs": [
    {
     "data": {
      "text/plain": [
       "(1014, 339, 348)"
      ]
     },
     "execution_count": 18,
     "metadata": {},
     "output_type": "execute_result"
    }
   ],
   "source": [
    "len(equal_train), len(equal_val), len(equal_test)"
   ]
  },
  {
   "cell_type": "code",
   "execution_count": 67,
   "metadata": {},
   "outputs": [
    {
     "ename": "NameError",
     "evalue": "name 'equal_train' is not defined",
     "output_type": "error",
     "traceback": [
      "\u001b[0;31m---------------------------------------------------------------------------\u001b[0m",
      "\u001b[0;31mNameError\u001b[0m                                 Traceback (most recent call last)",
      "Cell \u001b[0;32mIn [67], line 2\u001b[0m\n\u001b[1;32m      1\u001b[0m \u001b[38;5;28;01mwith\u001b[39;00m \u001b[38;5;28mopen\u001b[39m(\u001b[38;5;124m'\u001b[39m\u001b[38;5;124mequal.txt\u001b[39m\u001b[38;5;124m'\u001b[39m, \u001b[38;5;124m'\u001b[39m\u001b[38;5;124mw\u001b[39m\u001b[38;5;124m'\u001b[39m) \u001b[38;5;28;01mas\u001b[39;00m f:\n\u001b[0;32m----> 2\u001b[0m     f\u001b[38;5;241m.\u001b[39mwrite(\u001b[38;5;28mstr\u001b[39m({\u001b[38;5;124m\"\u001b[39m\u001b[38;5;124mtrain\u001b[39m\u001b[38;5;124m\"\u001b[39m: \u001b[43mequal_train\u001b[49m, \u001b[38;5;124m\"\u001b[39m\u001b[38;5;124mval\u001b[39m\u001b[38;5;124m\"\u001b[39m: equal_val, \u001b[38;5;124m\"\u001b[39m\u001b[38;5;124mtest\u001b[39m\u001b[38;5;124m\"\u001b[39m: equal_test}))\n",
      "\u001b[0;31mNameError\u001b[0m: name 'equal_train' is not defined"
     ]
    }
   ],
   "source": [
    "with open('equal.txt', 'w') as f:\n",
    "    f.write(str({\"train\": equal_train, \"val\": equal_val, \"test\": equal_test}))"
   ]
  },
  {
   "cell_type": "code",
   "execution_count": 72,
   "metadata": {},
   "outputs": [],
   "source": [
    "file = open('equal.txt', 'r')\n",
    "\n",
    "dict_files = file.read()\n",
    "files = eval(dict_files)\n",
    "\n",
    "file.close()"
   ]
  },
  {
   "cell_type": "code",
   "execution_count": 73,
   "metadata": {},
   "outputs": [],
   "source": [
    "split_2 = {}\n",
    "\n",
    "split_2[\"train\"] = []\n",
    "split_2[\"val\"] = []\n",
    "split_2[\"test\"] = []"
   ]
  },
  {
   "cell_type": "code",
   "execution_count": 74,
   "metadata": {
    "tags": []
   },
   "outputs": [],
   "source": [
    "for file in files[\"train\"]:\n",
    "    path = Path(file)\n",
    "    split_2[\"train\"].append(str(path.stem) + str(path.suffix))\n",
    "    \n",
    "for file in files[\"val\"]:\n",
    "    path = Path(file)\n",
    "    split_2[\"val\"].append(str(path.stem) + str(path.suffix))\n",
    "    \n",
    "for file in files[\"test\"]:\n",
    "    path = Path(file)\n",
    "    split_2[\"test\"].append(str(path.stem) + str(path.suffix))"
   ]
  },
  {
   "cell_type": "code",
   "execution_count": 75,
   "metadata": {
    "collapsed": true,
    "jupyter": {
     "outputs_hidden": true
    },
    "tags": []
   },
   "outputs": [
    {
     "name": "stdout",
     "output_type": "stream",
     "text": [
      "['IMG_1003.jpg', 'Spike_791.JPG', 'IMG_0792.jpg', 'IMG_9996.jpg', 'IMG_0001.jpg', 'IMG_9847.jpg', 'IMG_0343.jpg', 'Spike_436.JPG', '6674_2_{X-18}.jpg', 'IMG_9756.jpg', 'IMG_0140.jpg', '8831.jpg', 'IMG_0683.jpg', '8797.jpg', 'Spike_32.JPG', 'IMG_0803.jpg', 'IMG_0926.jpg', '8801.jpg', '8768.jpg', 'IMG_9989.jpg', 'IMG_0660.jpg', 'IMG_0721.jpg', 'Spike_370.JPG', 'IMG_0002.jpg', 'IMG_1053.jpg', '6839_1_{X-18}.jpg', 'IMG_0337.jpg', 'IMG_9584.jpg', 'IMG_0321.jpg', 'IMG_9645.jpg', '6416_{X-18}.jpg', 'IMG_0069.jpg', 'IMG_0580.jpg', '8744_3.jpg', 'IMG_9571.jpg', '8731.jpg', 'IMG_0156.jpg', 'IMG_1156.jpg', 'IMG_0758.jpg', 'IMG_0416.jpg', 'IMG_0441.jpg', '7258_1.jpg', '6838_4_{X-18}.jpg', 'IMG_0988.jpg', 'IMG_1121.jpg', 'IMG_9731.jpg', 'Spike_466.JPG', 'IMG_0349.jpg', 'IMG_0903.jpg', 'IMG_0907.jpg', 'IMG_0312.jpg', 'Spike_84.JPG', 'Spike_400.JPG', 'IMG_0711.jpg', 'IMG_9928.jpg', '7260_4.jpg', 'IMG_0613.jpg', 'IMG_9574.jpg', 'IMG_9749.jpg', '6447_1.jpg', 'IMG_0325.jpg', '6420_4_{X-18}.jpg', 'IMG_0429.jpg', 'Spike_428.JPG', '8837.jpg', 'IMG_9649.jpg', '6834_1_{X-18}.jpg', 'Spike_6.JPG', '6450.jpg', '8749_3.jpg', '7259.jpg', '6447_3.jpg', 'IMG_9976.jpg', 'IMG_0353.jpg', '8762_1.jpg', 'IMG_0665.jpg', '8746_2.jpg', 'IMG_9600.jpg', '8735_2.jpg', '8740_4.jpg', 'Spike_477.JPG', 'Spike_498.JPG', 'IMG_1131.jpg', 'IMG_0020.jpg', 'IMG_9934.jpg', 'IMG_0404.jpg', 'IMG_9777.jpg', 'IMG_1110.jpg', 'Spike_754.JPG', 'IMG_9709.jpg', 'IMG_0380.jpg', '8728_1.jpg', 'Spike_445.JPG', '8753_2.jpg', 'IMG_1122.jpg', 'IMG_9693.jpg', 'Spike_341.JPG', 'Spike_530.JPG', '8833.jpg', 'IMG_9752.jpg', 'Spike_418.JPG', '8749_1.jpg', 'Spike_828.JPG', 'IMG_9896.jpg', 'IMG_0370.jpg', 'IMG_0960.jpg', 'IMG_1185.jpg', 'Spike_64.JPG', 'IMG_1112.jpg', 'IMG_0979.jpg', '7255_4.jpg', '8829.jpg', 'IMG_0173.jpg', '6419_2_{X-18}.jpg', 'IMG_9866.jpg', 'IMG_1109.jpg', 'IMG_1040.jpg', 'IMG_0971.jpg', 'IMG_9935.jpg', '6449_1.jpg', 'IMG_0706.jpg', 'IMG_9666.jpg', 'IMG_0209.jpg', 'IMG_0743.jpg', 'IMG_9751.jpg', 'Spike_48.JPG', 'IMG_0813.jpg', 'IMG_9759.jpg', 'IMG_0217.jpg', '7260.jpg', 'IMG_0072.jpg', 'IMG_0574.jpg', '8798_2.jpg', 'IMG_0936.jpg', 'IMG_0385.jpg', 'Spike_58.JPG', 'IMG_1030.jpg', 'IMG_0530.jpg', '6674_1_{X-18}.jpg', 'IMG_9911.jpg', '7251_1.jpg', '8762_4.jpg', '8749.jpg', 'IMG_1168.jpg', 'IMG_0107.jpg', '6443_2.jpg', 'IMG_0647.jpg', '8784.jpg', 'Spike_788.JPG', 'IMG_9715.jpg', '1988.jpg', 'IMG_0362.jpg', 'IMG_9672.jpg', 'IMG_1031.jpg', 'IMG_1045.jpg', 'Spike_575.JPG', '7257_2.jpg', 'Spike_444.JPG', 'IMG_0746.jpg', 'IMG_0554.jpg', 'IMG_9652.jpg', '8743_4.jpg', 'IMG_0463.jpg', 'Spike_790.JPG', 'IMG_0489.jpg', 'IMG_9967.jpg', 'IMG_0898.jpg', 'IMG_9781.jpg', 'IMG_0096.jpg', '6448.jpg', 'IMG_0496.jpg', '6673_4_{X-18}.jpg', 'IMG_9871.jpg', 'IMG_0654.jpg', 'IMG_0811.jpg', 'IMG_0586.jpg', 'IMG_0808.jpg', '6441.jpg', '6417_2_{X-18}.jpg', '8811.jpg', 'IMG_0520.jpg', '8732_2.jpg', 'IMG_0892.jpg', 'IMG_0712.jpg', '8735_1.jpg', '8759_2.jpg', 'IMG_9955.jpg', '8738_3.jpg', 'IMG_0503.jpg', 'IMG_0075.jpg', '8743.jpg', '8807.jpg', 'IMG_1002.jpg', 'IMG_0341.jpg', 'IMG_9597.jpg', '8759_1.jpg', 'IMG_0765.jpg', 'IMG_0477.jpg', 'Spike_728.JPG', 'IMG_1188.jpg', 'IMG_0178.jpg', 'IMG_9698.jpg', '8764_4.jpg', 'IMG_9768.jpg', 'IMG_0952.jpg', 'Spike_673.JPG', 'IMG_0626.jpg', '7257_3.jpg', 'IMG_0652.jpg', '8755_1.jpg', 'Spike_506.JPG', 'IMG_9995.jpg', 'IMG_0794.jpg', 'IMG_9587.jpg', 'IMG_0451.jpg', '7251_3.jpg', 'Spike_427.JPG', 'Spike_410.JPG', 'Spike_238.JPG', '6420_1_{X-18}.jpg', 'IMG_0648.jpg', '8782.jpg', '8750_2.jpg', '6675_1_{X-18}.jpg', 'IMG_0315.jpg', '8752_2.jpg', 'IMG_0430.jpg', 'Spike_114.JPG', 'IMG_0310.jpg', 'IMG_9813.jpg', 'IMG_0909.jpg', 'IMG_9938.jpg', 'IMG_0678.jpg', 'IMG_0426.jpg', 'Spike_712.JPG', 'Spike_580.JPG', 'IMG_1119.jpg', 'IMG_0605.jpg', 'IMG_0539.jpg', 'IMG_0954.jpg', 'Spike_532.JPG', 'IMG_0584.jpg', 'IMG_0324.jpg', 'IMG_1166.jpg', 'IMG_9741.jpg', '6836_3_{X-18}.jpg', '7258_2.jpg', '8734_2.jpg', 'IMG_0887.jpg', 'IMG_0990.jpg', 'IMG_0309.jpg', 'IMG_0570.jpg', '7255_1.jpg', 'IMG_1076.jpg', '6445.jpg', '6445_3.jpg', 'IMG_0468.jpg', 'IMG_0007.jpg', 'IMG_0956.jpg', 'IMG_1016.jpg', 'IMG_0479.jpg', 'IMG_0444.jpg', 'Spike_813.JPG', '8729_2.jpg', '8820.jpg', 'IMG_9685.jpg', '8735.jpg', '7256_4.jpg', 'IMG_0802.jpg', '8728_6.jpg', 'IMG_0620.jpg', 'IMG_9980.jpg', 'IMG_9883.jpg', 'Spike_572.JPG', '8735_3.jpg', 'IMG_1046.jpg', 'Spike_830.JPG', 'IMG_0812.jpg', 'Spike_122.JPG', 'IMG_0011.jpg', 'IMG_9873.jpg', 'IMG_0961.jpg', 'IMG_1028.jpg', 'IMG_0975.jpg', 'IMG_0723.jpg', '8765.jpg', 'Spike_531.JPG', 'IMG_0219.jpg', '8733_4.jpg', 'IMG_0603.jpg', 'IMG_1190.jpg', 'IMG_0066.jpg', '8792.jpg', 'IMG_0510.jpg', 'IMG_0920.jpg', 'IMG_1187.jpg', 'IMG_0445.jpg', 'IMG_0556.jpg', '7260_3.jpg', 'IMG_9816.jpg', 'Spike_672.JPG', '8732_1.jpg', 'IMG_0797.jpg', '6831_3_{X-18}.jpg', '6444_1.jpg', 'IMG_9766.jpg', 'IMG_0692.jpg', '8798_4.jpg', 'IMG_1029.jpg', 'Spike_378.JPG', 'IMG_0133.jpg', 'IMG_0773.jpg', 'IMG_9769.jpg', 'IMG_9952.jpg', 'IMG_0697.jpg', 'IMG_0771.jpg', '6831_2_{X-18}.jpg', 'Spike_380.JPG', 'IMG_1149.jpg', 'IMG_1143.jpg', '6836_2_{X-18}.jpg', '6416_3_{X-18}.jpg', 'Spike_724.JPG', 'IMG_9636.jpg', 'IMG_0058.jpg', '8788.jpg', '6834_2_{X-18}.jpg', 'IMG_0709.jpg', 'IMG_0316.jpg', 'IMG_9905.jpg', 'IMG_9844.jpg', 'IMG_0118.jpg', '6840_4_{X-18}.jpg', 'IMG_9834.jpg', 'IMG_9761.jpg', '7251.jpg', 'IMG_9785.jpg', '6680_3_{X-18}.jpg', 'IMG_9623.jpg', '7255_2.jpg', 'Spike_56.JPG', 'IMG_0046.jpg', 'IMG_9832.jpg', '8781.jpg', 'IMG_9613.jpg', '6416_1_{X-18}.jpg', 'IMG_0891.jpg', 'IMG_0878.jpg', 'Spike_34.JPG', '6831_4_{X-18}.jpg', '6445_2.jpg', 'IMG_9870.jpg', 'IMG_0313.jpg', '6678_2_{X-18}.jpg', '8760_3.jpg', '8852.jpg', 'IMG_0622.jpg', 'IMG_0882.jpg', '7256_1.jpg', '6834_3_{X-18}.jpg', '8746_3.jpg', 'Spike_116.JPG', 'IMG_1164.jpg', 'IMG_9800.jpg', 'IMG_0515.jpg', 'IMG_9909.jpg', '8817_1.jpg', 'IMG_0378.jpg', 'IMG_0555.jpg', 'IMG_0427.jpg', 'Spike_459.JPG', 'IMG_0054.jpg', 'IMG_9979.jpg', 'IMG_9958.jpg', 'IMG_9788.jpg', '8753_3.jpg', 'IMG_0728.jpg', '8834.jpg', 'IMG_0637.jpg', 'IMG_1008.jpg', 'IMG_0645.jpg', 'IMG_0036.jpg', 'IMG_0583.jpg', 'IMG_9737.jpg', 'IMG_9971.jpg', 'Spike_432.JPG', 'IMG_0182.jpg', '8738_2.jpg', 'IMG_9784.jpg', 'IMG_0400.jpg', 'IMG_1137.jpg', 'Spike_136.JPG', 'IMG_0890.jpg', '8803.jpg', 'IMG_1033.jpg', 'IMG_0688.jpg', 'IMG_0414.jpg', 'Spike_16.JPG', 'IMG_0548.jpg', 'IMG_0030.jpg', '6446.jpg', 'IMG_0493.jpg', 'IMG_0319.jpg', '8742_4.jpg', 'IMG_0543.jpg', 'IMG_0640.jpg', 'IMG_9811.jpg', '8746_4.jpg', 'IMG_9835.jpg', 'Spike_817.JPG', 'IMG_0346.jpg', 'Spike_80.JPG', '8742_3.jpg', 'IMG_0383.jpg', 'IMG_0159.jpg', 'IMG_9787.jpg', 'Spike_454.JPG', '6419_{X-18}.jpg', 'IMG_9640.jpg', 'IMG_0694.jpg', '7253_3.jpg', 'IMG_0957.jpg', 'IMG_1118.jpg', 'IMG_0505.jpg', 'IMG_1054.jpg', 'Spike_780.JPG', 'IMG_0643.jpg', 'IMG_0188.jpg', '8736_1.jpg', 'IMG_0376.jpg', '6441_3.jpg', 'IMG_0480.jpg', 'IMG_0785.jpg', 'IMG_0563.jpg', 'IMG_1163.jpg', 'IMG_0533.jpg', 'IMG_0598.jpg', 'IMG_9791.jpg', 'IMG_0108.jpg', 'IMG_0050.jpg', 'IMG_0202.jpg', '6443_1.jpg', 'IMG_0301.jpg', 'IMG_1097.jpg', '6835_1_{X-18}.jpg', 'IMG_0026.jpg', 'IMG_9727.jpg', 'IMG_0023.jpg', '6839_4_{X-18}.jpg', '8729.jpg', '8821.jpg', 'IMG_0615.jpg', 'IMG_9671.jpg', 'IMG_9710.jpg', 'IMG_0139.jpg', 'IMG_9607.jpg', 'IMG_0949.jpg', '8740_2.jpg', 'IMG_1080.jpg', 'IMG_9621.jpg', 'IMG_1175.jpg', 'Spike_644.JPG', 'IMG_9637.jpg', '8759.jpg', '6678_3_{X-18}.jpg', 'IMG_0801.jpg', 'Spike_182.JPG', '6441_2.jpg', '8740.jpg', 'IMG_9772.jpg', '6419_4_{X-18}.jpg', 'IMG_0597.jpg', 'IMG_0500.jpg', 'IMG_1141.jpg', 'IMG_9882.jpg', '6450_3.jpg', '8806.jpg', 'IMG_1083.jpg', '8740_3.jpg', 'IMG_0958.jpg', 'IMG_1176.jpg', 'IMG_0526.jpg', '7253_2.jpg', 'IMG_1155.jpg', 'IMG_0885.jpg', 'IMG_1147.jpg', '6838_3_{X-18}.jpg', '8805.jpg', '8729_3.jpg', '6675_4_{X-18}.jpg', 'Spike_104.JPG', 'Spike_397.JPG', 'Spike_435.JPG', '8766_4.jpg', 'IMG_9701.jpg', 'IMG_0446.jpg', 'IMG_9903.jpg', 'IMG_0014.jpg', 'Spike_92.JPG', 'Spike_220.JPG', 'IMG_1067.jpg', '7256.jpg', 'IMG_0327.jpg', '8761_1.jpg', '8840_2.jpg', '8749_2.jpg', 'IMG_0440.jpg', 'Spike_20.JPG', 'IMG_0492.jpg', '8761_4.jpg', 'Spike_625.JPG', 'IMG_9714.jpg', '6450_2.jpg', 'IMG_0189.jpg', '8814.jpg', 'IMG_9738.jpg', 'IMG_9831.jpg', '6446_4.jpg', '8817_2.jpg', 'IMG_9946.jpg', 'Spike_725.JPG', 'IMG_0523.jpg', '8734.jpg', 'IMG_1037.jpg', 'IMG_9937.jpg', 'IMG_9845.jpg', '7251_2.jpg', 'Spike_2.JPG', 'IMG_9754.jpg', 'IMG_9993.jpg', 'IMG_0123.jpg', 'IMG_0750.jpg', '6677_1_{X-18}.jpg', 'IMG_0407.jpg', 'IMG_1093.jpg', 'IMG_0166.jpg', 'IMG_9992.jpg', 'IMG_0008.jpg', '8739_1.jpg', 'IMG_0092.jpg', 'Spike_346.JPG', 'IMG_0544.jpg', 'Spike_71.JPG', '6444.jpg', 'IMG_0739.jpg', 'IMG_0487.jpg', 'IMG_0941.jpg', 'IMG_0759.jpg', 'IMG_1070.jpg', 'IMG_9627.jpg', 'IMG_0506.jpg', 'IMG_0438.jpg', 'Spike_705.JPG', 'IMG_0433.jpg', 'IMG_0747.jpg', 'IMG_0158.jpg', 'IMG_0946.jpg', 'IMG_0616.jpg', 'IMG_9771.jpg', '8738_4.jpg', 'Spike_234.JPG', 'IMG_9726.jpg', 'IMG_9858.jpg', 'IMG_1000.jpg', '6676_1_{X-18}.jpg', 'IMG_0449.jpg', 'Spike_793.JPG', '8753.jpg', 'IMG_0095.jpg', 'IMG_0632.jpg', 'IMG_0731.jpg', 'IMG_0978.jpg', 'Spike_431.JPG', '6837_2_{X-18}.jpg', 'IMG_0537.jpg', 'IMG_1035.jpg', 'IMG_0985.jpg', '6675_3_{X-18}.jpg', 'IMG_0610.jpg', 'Spike_50.JPG', 'IMG_9927.jpg', 'Spike_196.JPG', 'Spike_18.JPG', 'IMG_1096.jpg', 'Spike_616.JPG', 'IMG_0452.jpg', 'IMG_0112.jpg', 'IMG_0086.jpg', 'IMG_0021.jpg', 'IMG_0606.jpg', 'IMG_1060.jpg', '8861_1.jpg', '8764.jpg', '6418_2_{X-18}.jpg', 'IMG_0888.jpg', '8838.jpg', 'Spike_215.JPG', '6838_1_{X-18}.jpg', 'Spike_39.JPG', 'IMG_0333.jpg', '8795.jpg', 'Spike_612.JPG', 'IMG_0458.jpg', 'IMG_9823.jpg', 'IMG_0994.jpg', '8739_2.jpg', 'IMG_9817.jpg', 'IMG_0216.jpg', '6420_{X-18}.jpg', 'Spike_529.JPG', 'IMG_9863.jpg', '8823.jpg', 'Spike_818.JPG', 'IMG_0667.jpg', 'IMG_9895.jpg', 'IMG_0912.jpg', 'IMG_9801.jpg', 'IMG_0775.jpg', '8748_3.jpg', 'IMG_0591.jpg', 'IMG_0528.jpg', '8830.jpg', 'IMG_1059.jpg', '6833_2_{X-18}.jpg', 'Spike_46.JPG', '8849.jpg', 'IMG_1014.jpg', 'Spike_100.JPG', 'IMG_9624.jpg', 'Spike_128.JPG', '8796.jpg', 'IMG_0568.jpg', 'IMG_0884.jpg', 'IMG_9639.jpg', 'IMG_0540.jpg', 'IMG_9951.jpg', 'IMG_0186.jpg', '6832_2_{X-18}.jpg', 'IMG_1009.jpg', 'Spike_236.JPG', 'IMG_0671.jpg', 'Spike_600.JPG', 'IMG_0915.jpg', '8780.jpg', 'Spike_38.JPG', 'Spike_118.JPG', 'IMG_9814.jpg', 'IMG_0136.jpg', 'Spike_814.JPG', 'IMG_0677.jpg', 'IMG_1058.jpg', 'Spike_831.JPG', '6448_2.jpg', 'IMG_0314.jpg', '8734_4.jpg', 'IMG_0576.jpg', 'IMG_9864.jpg', 'IMG_9861.jpg', 'IMG_9874.jpg', 'Spike_208.JPG', '8750_3.jpg', 'IMG_0409.jpg', 'Spike_463.JPG', 'IMG_1116.jpg', '6449_3.jpg', '8733.jpg', '8730_2.jpg', 'IMG_1049.jpg', 'Spike_212.JPG', '8745_2.jpg', 'IMG_1113.jpg', '7260_1.jpg', 'IMG_0599.jpg', 'IMG_9675.jpg', 'IMG_0923.jpg', 'IMG_9724.jpg', 'Spike_200.JPG', 'IMG_0924.jpg', 'IMG_0567.jpg', '8853.jpg', 'IMG_1063.jpg', 'IMG_1022.jpg', '8762_3.jpg', '8731_1.jpg', 'Spike_130.JPG', 'IMG_9906.jpg', 'Spike_521.JPG', 'IMG_9854.jpg', 'Spike_453.JPG', 'IMG_0560.jpg', 'Spike_764.JPG', 'IMG_9790.jpg', 'IMG_0079.jpg', '8736.jpg', 'Spike_569.JPG', 'IMG_0017.jpg', 'IMG_0034.jpg', 'IMG_0043.jpg', '8746_1.jpg', '7256_2.jpg', 'IMG_1041.jpg', 'IMG_0735.jpg', 'IMG_9630.jpg', 'IMG_1189.jpg', 'IMG_0768.jpg', 'IMG_9665.jpg', 'Spike_198.JPG', 'Spike_72.JPG', 'IMG_1017.jpg', 'IMG_0223.jpg', 'IMG_1148.jpg', 'Spike_622.JPG', 'IMG_9669.jpg', 'IMG_0572.jpg', 'IMG_9601.jpg', 'IMG_9940.jpg', 'IMG_0394.jpg', 'IMG_0729.jpg', '7252_3.jpg', 'IMG_9575.jpg', '6835_2_{X-18}.jpg', 'IMG_9723.jpg', 'IMG_9697.jpg', 'Spike_26.JPG', 'IMG_0381.jpg', 'IMG_0529.jpg', 'Spike_437.JPG', 'IMG_0974.jpg', '8765_3.jpg', '8750_1.jpg', 'IMG_0461.jpg', 'Spike_450.JPG', 'IMG_9609.jpg', 'Spike_22.JPG', '7258_4.jpg', 'IMG_0947.jpg', 'IMG_0701.jpg', 'IMG_0565.jpg', 'Spike_214.JPG', 'IMG_0369.jpg', 'IMG_1129.jpg', '8755_3.jpg', 'IMG_0344.jpg', '8744.jpg', 'IMG_9596.jpg', 'IMG_1133.jpg', 'IMG_9974.jpg', '8733_2.jpg', 'IMG_0397.jpg', '6671_4_{X-18}.jpg', 'IMG_0928.jpg', 'IMG_1144.jpg', 'Spike_461.JPG', 'IMG_9804.jpg', 'IMG_0124.jpg', 'Spike_194.JPG', '8844.jpg', '8818.jpg', 'IMG_0740.jpg', '7255.jpg', '8734_1.jpg', 'IMG_0338.jpg', 'IMG_0005.jpg', '8739_3.jpg', 'Spike_716.JPG', 'Spike_232.JPG', '8813.jpg', 'IMG_0432.jpg', '8791.jpg', '8732_4.jpg', 'IMG_9810.jpg', '8730_1.jpg', '8746.jpg', 'IMG_0675.jpg', 'IMG_0767.jpg', 'IMG_0589.jpg', '8843.jpg', 'IMG_0741.jpg', 'IMG_9839.jpg', 'IMG_1153.jpg', 'IMG_1057.jpg', '8779.jpg', 'IMG_0495.jpg', 'IMG_1089.jpg', '8798_1.jpg', 'Spike_52.JPG', '7259_1.jpg', 'IMG_9653.jpg', 'IMG_1152.jpg', 'Spike_512.JPG', 'Spike_446.JPG', 'IMG_0639.jpg', 'IMG_0083.jpg', 'IMG_0631.jpg', '6445_4.jpg', 'IMG_9774.jpg', 'IMG_0103.jpg', 'IMG_0717.jpg', 'Spike_430.JPG', 'IMG_0764.jpg', 'IMG_0398.jpg', 'IMG_0564.jpg', 'IMG_0490.jpg', '8765_1.jpg', 'IMG_0165.jpg', '6447_2.jpg', 'Spike_86.JPG', 'IMG_1091.jpg', 'IMG_0152.jpg', 'IMG_1013.jpg', 'IMG_0412.jpg', 'IMG_1078.jpg', '8804.jpg', 'IMG_9775.jpg', '8743_3.jpg', 'IMG_0192.jpg', 'Spike_239.JPG', 'IMG_1004.jpg', 'IMG_0806.jpg', '6418_1_{X-18}.jpg', 'IMG_1084.jpg', 'Spike_535.JPG', 'Spike_656.JPG', '6671_3_{X-18}.jpg', 'IMG_0809.jpg', '6449.jpg', '8741_2.jpg', 'IMG_0308.jpg', '6671_1_{X-18}.jpg', 'Spike_12.JPG', 'IMG_9808.jpg', 'IMG_0641.jpg', 'IMG_0991.jpg', 'IMG_0778.jpg', 'IMG_9740.jpg', 'IMG_0203.jpg', 'IMG_9968.jpg', 'IMG_0679.jpg', 'Spike_36.JPG', 'Spike_440.JPG', '8766_3.jpg', 'Spike_441.JPG', '6444_4.jpg', 'IMG_0549.jpg', 'IMG_0497.jpg', 'IMG_0411.jpg', '8736_4.jpg', 'IMG_9718.jpg', 'IMG_0514.jpg', 'IMG_0168.jpg', 'Spike_433.JPG', '6677_3_{X-18}.jpg', 'Spike_425.JPG', 'IMG_0686.jpg', 'Spike_30.JPG', 'Spike_765.JPG', 'IMG_1114.jpg', 'IMG_0172.jpg', 'Spike_76.JPG', 'IMG_0916.jpg', '8728_4.jpg', 'IMG_1171.jpg', '8760_4.jpg', 'IMG_0904.jpg', '8744_1.jpg', 'IMG_9674.jpg', '7253_1.jpg', 'IMG_0476.jpg', 'Spike_110.JPG', 'IMG_0098.jpg', 'IMG_9588.jpg', 'Spike_90.JPG', 'IMG_0388.jpg', '6835_3_{X-18}.jpg', '6832_1_{X-18}.jpg', 'IMG_0987.jpg', '6840_3_{X-18}.jpg', 'IMG_0967.jpg', 'IMG_1068.jpg', 'Spike_392.JPG', 'IMG_0655.jpg', 'IMG_0642.jpg', 'IMG_0617.jpg', 'IMG_9662.jpg', 'IMG_9606.jpg', 'IMG_0608.jpg', 'IMG_0585.jpg', 'IMG_9677.jpg', 'IMG_0799.jpg', 'IMG_0780.jpg', 'IMG_0464.jpg', 'IMG_0045.jpg', '6676_4_{X-18}.jpg', 'IMG_9629.jpg', 'IMG_0323.jpg', 'IMG_0155.jpg', '8851.jpg', 'IMG_0621.jpg', '7253_4.jpg', '8761_3.jpg', 'Spike_222.JPG', 'IMG_0929.jpg', 'IMG_0393.jpg', '6441_1.jpg', 'IMG_9794.jpg', 'IMG_9581.jpg', 'IMG_0636.jpg', 'Spike_70.JPG', 'Spike_547.JPG', 'IMG_9703.jpg', 'IMG_0791.jpg', 'IMG_0191.jpg', 'Spike_510.JPG', '8728_3.jpg', 'IMG_9984.jpg', 'IMG_0992.jpg', '8826.jpg', 'IMG_9594.jpg', 'IMG_0421.jpg', '6443_4.jpg', '8732.jpg', 'IMG_1018.jpg', 'IMG_9983.jpg', 'IMG_9921.jpg', 'IMG_1134.jpg', 'IMG_1151.jpg', 'IMG_0137.jpg', 'Spike_404.JPG', 'IMG_9876.jpg', 'IMG_0725.jpg', 'Spike_407.JPG', '8731_4.jpg', 'Spike_62.JPG', 'IMG_9748.jpg', 'IMG_0919.jpg', 'IMG_9890.jpg', 'IMG_1071.jpg', '6680_2_{X-18}.jpg', 'IMG_1145.jpg', 'IMG_0194.jpg', 'IMG_9867.jpg', 'IMG_0942.jpg', '8857.jpg', 'Spike_621.JPG', 'IMG_1103.jpg', 'IMG_9734.jpg', '6673_3_{X-18}.jpg', '6441_4.jpg', 'IMG_0372.jpg', 'IMG_9848.jpg', 'IMG_9986.jpg', 'Spike_190.JPG', '8765_4.jpg', 'Spike_8.JPG', 'IMG_0466.jpg', 'IMG_0501.jpg', 'IMG_0646.jpg', '6418_{X-18}.jpg', 'IMG_0790.jpg', '6833_3_{X-18}.jpg', 'IMG_0386.jpg', '6839_3_{X-18}.jpg', 'IMG_0364.jpg', 'IMG_0673.jpg', '8761_2.jpg', 'IMG_0940.jpg', 'IMG_0413.jpg', 'IMG_0127.jpg', 'IMG_0951.jpg', 'Spike_134.JPG', 'IMG_0485.jpg', 'IMG_9603.jpg', 'IMG_0669.jpg', 'Spike_188.JPG', 'IMG_1044.jpg', 'IMG_0307.jpg', 'IMG_0208.jpg', '7257_1.jpg', 'Spike_782.JPG', 'IMG_0423.jpg', 'IMG_0373.jpg', 'IMG_9912.jpg', 'IMG_0329.jpg', '6839_2_{X-18}.jpg', 'IMG_1138.jpg', '8738_1.jpg', 'IMG_1012.jpg', 'IMG_9887.jpg', '6838_2_{X-18}.jpg', 'IMG_0770.jpg', 'IMG_9688.jpg', 'IMG_9954.jpg', 'Spike_240.JPG', 'IMG_9963.jpg', 'Spike_611.JPG', '8728.jpg', 'IMG_0358.jpg', '7252_4.jpg', 'Spike_242.JPG', 'Spike_66.JPG', '6676_2_{X-18}.jpg', 'IMG_1123.jpg', 'Spike_385.JPG', 'IMG_9620.jpg', 'Spike_438.JPG', 'IMG_1055.jpg', 'IMG_0781.jpg', 'IMG_1179.jpg', '8774.jpg', 'IMG_0983.jpg', 'Spike_14.JPG', 'IMG_9569.jpg', 'IMG_0578.jpg', '8773.jpg']\n"
     ]
    }
   ],
   "source": [
    "print(split_2[\"train\"])"
   ]
  },
  {
   "cell_type": "code",
   "execution_count": 77,
   "metadata": {},
   "outputs": [],
   "source": [
    "with open('splits/equal.json', 'w') as f:\n",
    "    json.dump(split_2, f)"
   ]
  },
  {
   "cell_type": "markdown",
   "metadata": {},
   "source": [
    "## CERTAIN"
   ]
  },
  {
   "cell_type": "code",
   "execution_count": 111,
   "metadata": {},
   "outputs": [],
   "source": [
    "raw_clusters_size = []\n",
    "british_clusters_size = []\n",
    "\n",
    "with open('raw_clusters_size.txt', 'rb') as f:\n",
    "    raw_clusters_size = f.read()\n",
    "    raw_clusters_size = eval(raw_clusters_size)\n",
    "    \n",
    "with open('british_clusters_size.txt', 'rb') as f:\n",
    "    british_clusters_size = f.read()\n",
    "    british_clusters_size = eval(british_clusters_size)"
   ]
  },
  {
   "cell_type": "code",
   "execution_count": 112,
   "metadata": {},
   "outputs": [
    {
     "data": {
      "text/plain": [
       "[89, 378, 396, 140, 156, 75, 126, 85]"
      ]
     },
     "execution_count": 112,
     "metadata": {},
     "output_type": "execute_result"
    }
   ],
   "source": [
    "raw_clusters_size"
   ]
  },
  {
   "cell_type": "code",
   "execution_count": 113,
   "metadata": {
    "tags": []
   },
   "outputs": [
    {
     "name": "stdout",
     "output_type": "stream",
     "text": [
      "Clusters: [[2, 1, 0], [3, 4], [7, 5, 6]]\n",
      "Counts: [863, 296, 286]\n"
     ]
    }
   ],
   "source": [
    "import random\n",
    "\n",
    "raw_train_count = 0\n",
    "raw_val_count = 0\n",
    "raw_test_count = 0\n",
    "raw_counts = [raw_train_count, raw_val_count, raw_test_count]\n",
    "\n",
    "raw_train_cluster = []\n",
    "raw_val_cluster = []\n",
    "raw_test_cluster = []\n",
    "raw_clusters = [raw_train_cluster, raw_val_cluster, raw_test_cluster]\n",
    "\n",
    "while raw_counts[0] < 860 or raw_counts[1] < 270 or raw_counts[2] < 270:\n",
    "    raw_train_count = 0\n",
    "    raw_val_count = 0\n",
    "    raw_test_count = 0\n",
    "    raw_counts = [raw_train_count, raw_val_count, raw_test_count]\n",
    "\n",
    "    raw_train_cluster = []\n",
    "    raw_val_cluster = []\n",
    "    raw_test_cluster = []\n",
    "    raw_clusters = [raw_train_cluster, raw_val_cluster, raw_test_cluster]\n",
    "\n",
    "    idxs = [i for i in range(len(raw_clusters_size))]\n",
    "\n",
    "    for i in range(len(raw_clusters_size)):\n",
    "        cluster = random.choice(idxs)\n",
    "        count = raw_clusters_size[cluster]\n",
    "\n",
    "        set_num = random.randrange(3)\n",
    "\n",
    "        raw_counts[set_num] += count\n",
    "        raw_clusters[set_num].append(cluster)\n",
    "\n",
    "        idxs.remove(cluster)\n",
    "print(f\"Clusters: {raw_clusters}\")\n",
    "print(f\"Counts: {raw_counts}\")"
   ]
  },
  {
   "cell_type": "code",
   "execution_count": 114,
   "metadata": {},
   "outputs": [
    {
     "name": "stdout",
     "output_type": "stream",
     "text": [
      "Clusters: [[10, 3, 5, 0, 4], [9, 1, 6], [8, 2, 7]]\n",
      "Counts: [163, 46, 47]\n"
     ]
    }
   ],
   "source": [
    "import random\n",
    "\n",
    "british_train_count = 0\n",
    "british_val_count = 0\n",
    "british_test_count = 0\n",
    "british_counts = [british_train_count, british_val_count, british_test_count]\n",
    "\n",
    "british_train_cluster = []\n",
    "british_val_cluster = []\n",
    "british_test_cluster = []\n",
    "british_clusters = [british_train_cluster, british_val_cluster, british_test_cluster]\n",
    "\n",
    "while british_counts[0] < 160 or british_counts[1] < 45 or british_counts[2] < 45:\n",
    "    british_train_count = 0\n",
    "    british_val_count = 0\n",
    "    british_test_count = 0\n",
    "    british_counts = [british_train_count, british_val_count, british_test_count]\n",
    "\n",
    "    british_train_cluster = []\n",
    "    british_val_cluster = []\n",
    "    british_test_cluster = []\n",
    "    british_clusters = [british_train_cluster, british_val_cluster, british_test_cluster]\n",
    "\n",
    "    idxs = [i for i in range(len(british_clusters_size))]\n",
    "\n",
    "    for i in range(len(british_clusters_size)):\n",
    "        cluster = random.choice(idxs)\n",
    "        count = british_clusters_size[cluster]\n",
    "\n",
    "        set_num = random.randrange(3)\n",
    "\n",
    "        british_counts[set_num] += count\n",
    "        british_clusters[set_num].append(cluster)\n",
    "\n",
    "        idxs.remove(cluster)\n",
    "print(f\"Clusters: {british_clusters}\")\n",
    "print(f\"Counts: {british_counts}\")"
   ]
  },
  {
   "cell_type": "code",
   "execution_count": 115,
   "metadata": {},
   "outputs": [
    {
     "data": {
      "text/plain": [
       "[1026, 342, 333]"
      ]
     },
     "execution_count": 115,
     "metadata": {},
     "output_type": "execute_result"
    }
   ],
   "source": [
    "all_images = [raw_counts[i] + british_counts[i] for i in range(3)]\n",
    "all_images"
   ]
  },
  {
   "cell_type": "code",
   "execution_count": 116,
   "metadata": {},
   "outputs": [
    {
     "data": {
      "text/plain": [
       "[[10, 3, 5, 0, 4], [9, 1, 6], [8, 2, 7]]"
      ]
     },
     "execution_count": 116,
     "metadata": {},
     "output_type": "execute_result"
    }
   ],
   "source": [
    "british_clusters"
   ]
  },
  {
   "cell_type": "code",
   "execution_count": 117,
   "metadata": {},
   "outputs": [
    {
     "data": {
      "text/plain": [
       "[[2, 1, 0], [3, 4], [7, 5, 6]]"
      ]
     },
     "execution_count": 117,
     "metadata": {},
     "output_type": "execute_result"
    }
   ],
   "source": [
    "raw_clusters"
   ]
  },
  {
   "cell_type": "code",
   "execution_count": 118,
   "metadata": {},
   "outputs": [],
   "source": [
    "BRITISH_IMAGE_DIR_ROOT = \"../../clusters/british/\"\n",
    "RAW_IMAGE_DIR_ROOT = \"../../clusters/raw/\"\n",
    "\n",
    "BRITISH_OUTPUT = \"data/british_images/\"\n",
    "RAW_OUTPUT = \"data/raw_images/\""
   ]
  },
  {
   "cell_type": "code",
   "execution_count": 119,
   "metadata": {},
   "outputs": [],
   "source": [
    "BRITISH_CLUSTERS_NUM = 11\n",
    "RAW_CLUSTERS_NUM = 8"
   ]
  },
  {
   "cell_type": "code",
   "execution_count": 120,
   "metadata": {},
   "outputs": [
    {
     "data": {
      "application/vnd.jupyter.widget-view+json": {
       "model_id": "7a6e65250bd84cdfb26eedb3448464ab",
       "version_major": 2,
       "version_minor": 0
      },
      "text/plain": [
       "  0%|          | 0/47 [00:00<?, ?it/s]"
      ]
     },
     "metadata": {},
     "output_type": "display_data"
    },
    {
     "data": {
      "application/vnd.jupyter.widget-view+json": {
       "model_id": "6a78a5c035244d18907a253c3952c5d0",
       "version_major": 2,
       "version_minor": 0
      },
      "text/plain": [
       "  0%|          | 0/26 [00:00<?, ?it/s]"
      ]
     },
     "metadata": {},
     "output_type": "display_data"
    },
    {
     "data": {
      "application/vnd.jupyter.widget-view+json": {
       "model_id": "e65292647a034c67bd9944c50eb66edd",
       "version_major": 2,
       "version_minor": 0
      },
      "text/plain": [
       "  0%|          | 0/2 [00:00<?, ?it/s]"
      ]
     },
     "metadata": {},
     "output_type": "display_data"
    },
    {
     "data": {
      "application/vnd.jupyter.widget-view+json": {
       "model_id": "0332733e5ffe47ccae2cf569f9ef5cd6",
       "version_major": 2,
       "version_minor": 0
      },
      "text/plain": [
       "  0%|          | 0/55 [00:00<?, ?it/s]"
      ]
     },
     "metadata": {},
     "output_type": "display_data"
    },
    {
     "data": {
      "application/vnd.jupyter.widget-view+json": {
       "model_id": "54dfd3d03757420e8194aada68e2af80",
       "version_major": 2,
       "version_minor": 0
      },
      "text/plain": [
       "  0%|          | 0/33 [00:00<?, ?it/s]"
      ]
     },
     "metadata": {},
     "output_type": "display_data"
    },
    {
     "data": {
      "application/vnd.jupyter.widget-view+json": {
       "model_id": "efaecf0f9a5d48eca8a85a472297c77c",
       "version_major": 2,
       "version_minor": 0
      },
      "text/plain": [
       "  0%|          | 0/5 [00:00<?, ?it/s]"
      ]
     },
     "metadata": {},
     "output_type": "display_data"
    },
    {
     "data": {
      "application/vnd.jupyter.widget-view+json": {
       "model_id": "fa24713571a44035ba129917da4ece5c",
       "version_major": 2,
       "version_minor": 0
      },
      "text/plain": [
       "  0%|          | 0/40 [00:00<?, ?it/s]"
      ]
     },
     "metadata": {},
     "output_type": "display_data"
    },
    {
     "data": {
      "application/vnd.jupyter.widget-view+json": {
       "model_id": "5c860d1c8bff44c38ef448dd912633f3",
       "version_major": 2,
       "version_minor": 0
      },
      "text/plain": [
       "  0%|          | 0/1 [00:00<?, ?it/s]"
      ]
     },
     "metadata": {},
     "output_type": "display_data"
    },
    {
     "data": {
      "application/vnd.jupyter.widget-view+json": {
       "model_id": "3abd029c28874277895f6e760357475a",
       "version_major": 2,
       "version_minor": 0
      },
      "text/plain": [
       "  0%|          | 0/21 [00:00<?, ?it/s]"
      ]
     },
     "metadata": {},
     "output_type": "display_data"
    },
    {
     "data": {
      "application/vnd.jupyter.widget-view+json": {
       "model_id": "455d3e8ac84c4fbfa912d645c80e2bc1",
       "version_major": 2,
       "version_minor": 0
      },
      "text/plain": [
       "  0%|          | 0/19 [00:00<?, ?it/s]"
      ]
     },
     "metadata": {},
     "output_type": "display_data"
    },
    {
     "data": {
      "application/vnd.jupyter.widget-view+json": {
       "model_id": "66716734e1504601a5fc9cb93ba6e584",
       "version_major": 2,
       "version_minor": 0
      },
      "text/plain": [
       "  0%|          | 0/7 [00:00<?, ?it/s]"
      ]
     },
     "metadata": {},
     "output_type": "display_data"
    },
    {
     "data": {
      "application/vnd.jupyter.widget-view+json": {
       "model_id": "714fb01fae2348a08be90f6900374c5e",
       "version_major": 2,
       "version_minor": 0
      },
      "text/plain": [
       "  0%|          | 0/396 [00:00<?, ?it/s]"
      ]
     },
     "metadata": {},
     "output_type": "display_data"
    },
    {
     "data": {
      "application/vnd.jupyter.widget-view+json": {
       "model_id": "ec5088fd41324344a237d3cc5148e23e",
       "version_major": 2,
       "version_minor": 0
      },
      "text/plain": [
       "  0%|          | 0/378 [00:00<?, ?it/s]"
      ]
     },
     "metadata": {},
     "output_type": "display_data"
    },
    {
     "data": {
      "application/vnd.jupyter.widget-view+json": {
       "model_id": "b75fa5d01e544425baa8d6ff2be14fd2",
       "version_major": 2,
       "version_minor": 0
      },
      "text/plain": [
       "  0%|          | 0/89 [00:00<?, ?it/s]"
      ]
     },
     "metadata": {},
     "output_type": "display_data"
    },
    {
     "data": {
      "application/vnd.jupyter.widget-view+json": {
       "model_id": "624db6c8b956435588501c4a70ad3baf",
       "version_major": 2,
       "version_minor": 0
      },
      "text/plain": [
       "  0%|          | 0/140 [00:00<?, ?it/s]"
      ]
     },
     "metadata": {},
     "output_type": "display_data"
    },
    {
     "data": {
      "application/vnd.jupyter.widget-view+json": {
       "model_id": "63c8a1faf07c4fa1a2352a6120987297",
       "version_major": 2,
       "version_minor": 0
      },
      "text/plain": [
       "  0%|          | 0/156 [00:00<?, ?it/s]"
      ]
     },
     "metadata": {},
     "output_type": "display_data"
    },
    {
     "data": {
      "application/vnd.jupyter.widget-view+json": {
       "model_id": "bbabf79e84d64eeab95cf5cc60df4065",
       "version_major": 2,
       "version_minor": 0
      },
      "text/plain": [
       "  0%|          | 0/85 [00:00<?, ?it/s]"
      ]
     },
     "metadata": {},
     "output_type": "display_data"
    },
    {
     "data": {
      "application/vnd.jupyter.widget-view+json": {
       "model_id": "a40387a533844aadb73431a53ff0e8af",
       "version_major": 2,
       "version_minor": 0
      },
      "text/plain": [
       "  0%|          | 0/75 [00:00<?, ?it/s]"
      ]
     },
     "metadata": {},
     "output_type": "display_data"
    },
    {
     "data": {
      "application/vnd.jupyter.widget-view+json": {
       "model_id": "691af935b9684d63b39d403212e41740",
       "version_major": 2,
       "version_minor": 0
      },
      "text/plain": [
       "  0%|          | 0/126 [00:00<?, ?it/s]"
      ]
     },
     "metadata": {},
     "output_type": "display_data"
    }
   ],
   "source": [
    "certain_train = []\n",
    "certain_val = []\n",
    "certain_test = []\n",
    "images = [certain_train, certain_val, certain_test]\n",
    "\n",
    "for set_num in range(3):\n",
    "    british_images = []\n",
    "    for i in british_clusters[set_num]:\n",
    "        dir_path = BRITISH_IMAGE_DIR_ROOT + \"cluster_\" + str(i)\n",
    "        for path in tqdm([*(Path(dir_path)).glob('*.[jJ][pP][gG]')]):\n",
    "            british_images.append(str(path.stem) + str(path.suffix))\n",
    "    images[set_num] += british_images\n",
    "    \n",
    "for set_num in range(3):\n",
    "    raw_images = []\n",
    "    for i in raw_clusters[set_num]:\n",
    "        dir_path = RAW_IMAGE_DIR_ROOT + \"cluster_\" + str(i)\n",
    "        for path in tqdm([*(Path(dir_path)).glob('*.[jJ][pP][gG]')]):\n",
    "            raw_images.append(str(path.stem) + str(path.suffix))\n",
    "    images[set_num] += raw_images\n",
    "                   "
   ]
  },
  {
   "cell_type": "code",
   "execution_count": 121,
   "metadata": {},
   "outputs": [],
   "source": [
    "random.shuffle(certain_train)\n",
    "random.shuffle(certain_val)\n",
    "random.shuffle(certain_test)"
   ]
  },
  {
   "cell_type": "code",
   "execution_count": 122,
   "metadata": {},
   "outputs": [
    {
     "data": {
      "text/plain": [
       "(1026, 342, 333)"
      ]
     },
     "execution_count": 122,
     "metadata": {},
     "output_type": "execute_result"
    }
   ],
   "source": [
    "len(certain_train), len(certain_val), len(certain_test)"
   ]
  },
  {
   "cell_type": "code",
   "execution_count": 123,
   "metadata": {},
   "outputs": [],
   "source": [
    "split_3 = dict()\n",
    "\n",
    "split_3['train'] = certain_train\n",
    "split_3['val'] = certain_val\n",
    "split_3['test'] = certain_test\n",
    "\n",
    "with open('splits/certain.json', 'w') as f:\n",
    "    json.dump(split_3, f)"
   ]
  },
  {
   "cell_type": "code",
   "execution_count": null,
   "metadata": {},
   "outputs": [],
   "source": []
  }
 ],
 "metadata": {
  "kernelspec": {
   "display_name": "Python 3 (ipykernel)",
   "language": "python",
   "name": "python3"
  },
  "language_info": {
   "codemirror_mode": {
    "name": "ipython",
    "version": 3
   },
   "file_extension": ".py",
   "mimetype": "text/x-python",
   "name": "python",
   "nbconvert_exporter": "python",
   "pygments_lexer": "ipython3",
   "version": "3.10.6"
  }
 },
 "nbformat": 4,
 "nbformat_minor": 4
}
